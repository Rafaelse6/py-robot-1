{
 "cells": [
  {
   "cell_type": "code",
   "execution_count": 16,
   "metadata": {},
   "outputs": [],
   "source": [
    "import pyautogui as mousePosition\n",
    "\n",
    "mousePosition.sleep(2)\n",
    "# print(mousePosition.position())\n",
    "\n",
    "mousePosition.moveTo(x=21, y=1063)\n",
    "mousePosition.click(x=21, y=1063)\n",
    "\n",
    "mousePosition.sleep(2)\n",
    "# print(mousePosition.position())\n",
    "mousePosition.moveTo(x=467, y=626)\n",
    "mousePosition.click(x=467, y=626)"
   ]
  }
 ],
 "metadata": {
  "kernelspec": {
   "display_name": "Python 3",
   "language": "python",
   "name": "python3"
  },
  "language_info": {
   "codemirror_mode": {
    "name": "ipython",
    "version": 3
   },
   "file_extension": ".py",
   "mimetype": "text/x-python",
   "name": "python",
   "nbconvert_exporter": "python",
   "pygments_lexer": "ipython3",
   "version": "3.11.4"
  },
  "orig_nbformat": 4
 },
 "nbformat": 4,
 "nbformat_minor": 2
}
